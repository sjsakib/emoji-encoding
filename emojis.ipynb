{
 "cells": [
  {
   "cell_type": "markdown",
   "metadata": {},
   "source": [
    "Have you ever tried to covert a string with emoji to bytes?"
   ]
  },
  {
   "cell_type": "code",
   "execution_count": 66,
   "metadata": {},
   "outputs": [
    {
     "name": "stdout",
     "output_type": "stream",
     "text": [
      "b'Hi \\xf0\\x9f\\x99\\x8b\\xf0\\x9f\\x8f\\xbd\\xe2\\x80\\x8d\\xe2\\x99\\x82\\xef\\xb8\\x8f'\n"
     ]
    }
   ],
   "source": [
    "text = 'Hi 🙋🏽‍♂️'\n",
    "\n",
    "print(bytes(text, 'utf-8'))"
   ]
  },
  {
   "cell_type": "markdown",
   "metadata": {},
   "source": [
    "And wonder th are the `\\x` thingies? How do they translates to emojis and back?\n",
    "\n",
    "If you try to dig in, you will see that it takes five unicode characters to represent this single emoji."
   ]
  },
  {
   "cell_type": "code",
   "execution_count": 67,
   "metadata": {},
   "outputs": [
    {
     "name": "stdout",
     "output_type": "stream",
     "text": [
      "Length:  5\n",
      "128587 0x1f64b 🙋\n",
      "127997 0x1f3fd 🏽\n",
      "8205 0x200d ‍\n",
      "9794 0x2642 ♂\n",
      "65039 0xfe0f ️\n"
     ]
    }
   ],
   "source": [
    "emoji = '🙋🏽‍♂️'\n",
    "print(\"Length: \", len(emoji))\n",
    "for c in emoji:\n",
    "    code = ord(c)\n",
    "    print(code, hex(code), c)"
   ]
  },
  {
   "cell_type": "markdown",
   "metadata": {},
   "source": [
    "First we have the base emoji: person raising hand 🙋 `128587` or `0x1f64b` in hexadecimal. Often represented as `U+1F64B`\n",
    "\n",
    "Then we have the skin tone modifier: light skin tone `127997`\n",
    "\n",
    "If you add these two you will actually get a gender neutral person with this skin tone raising hand."
   ]
  },
  {
   "cell_type": "code",
   "execution_count": 68,
   "metadata": {},
   "outputs": [
    {
     "name": "stdout",
     "output_type": "stream",
     "text": [
      "🙋🏽\n"
     ]
    }
   ],
   "source": [
    "print(chr(128587) + chr(127997))"
   ]
  },
  {
   "cell_type": "markdown",
   "metadata": {},
   "source": [
    "The second last one represents a male symbol, and the last one is called Variation Selector-16 (VS16), which indicates the previous character should be displayed as an emoji, rather than a symbol.\n",
    "\n",
    "There are many characters can be displayed either as symbol or emoji.\n"
   ]
  },
  {
   "cell_type": "code",
   "execution_count": 69,
   "metadata": {},
   "outputs": [
    {
     "name": "stdout",
     "output_type": "stream",
     "text": [
      "♥\n",
      "♥️\n"
     ]
    }
   ],
   "source": [
    "heart_symbol= '♥'\n",
    "print(heart_symbol)\n",
    "print(heart_symbol + chr(65039))"
   ]
  },
  {
   "cell_type": "markdown",
   "metadata": {},
   "source": [
    "Note: if the system or the renderer doesn't support that emoji, it might be rendered as a symbol. In that case copy the output and paste it into a different text editor or browser to see the difference."
   ]
  },
  {
   "cell_type": "markdown",
   "metadata": {},
   "source": [
    "So, the first two and lat two represents two separate emojis. The middle character is called a Zero Width Joiner (ZWJ), which is used to combine two or more emojis."
   ]
  },
  {
   "cell_type": "code",
   "execution_count": 70,
   "metadata": {},
   "outputs": [
    {
     "name": "stdout",
     "output_type": "stream",
     "text": [
      "👩‍💻\n"
     ]
    }
   ],
   "source": [
    "woman = '👩'\n",
    "laptop = '💻'\n",
    "print(woman + chr(8205) + laptop)"
   ]
  },
  {
   "cell_type": "markdown",
   "metadata": {},
   "source": [
    "Now let's see how each unicode character in general can be represented as bytes in the `utf-8` encoding.\n",
    "\n",
    "Let's consider the character character `U+1F64B`\n",
    "First we have to determine how many bytes will be required to store this, according to the range of the character. We could store this number itself with just three bytes, but then there would be no way to decode it back to one single character. So this patter is used instead: ([why this?](https://en.wikipedia.org/wiki/UTF-8#Description))\n",
    "\n",
    "`11110xxx 10xxxxxx 10xxxxxx 10xxxxxx`\n",
    "\n",
    "Now lets put the bits of the number `0x1f64b` in this pattern\n"
   ]
  },
  {
   "cell_type": "code",
   "execution_count": 71,
   "metadata": {},
   "outputs": [
    {
     "name": "stdout",
     "output_type": "stream",
     "text": [
      "0b11111011001001011\n"
     ]
    }
   ],
   "source": [
    "\n",
    "print(bin(0x1F64B))"
   ]
  },
  {
   "cell_type": "markdown",
   "metadata": {},
   "source": [
    "The pattern has 21 bits so let's add 0s at start to match\n",
    "\n",
    "`000011111011001001011`\n",
    "`000 011111 011001 001011`\n",
    "\n",
    "putting in the pattern: `11110000 10011111 10011001 10001011`\n",
    "\n",
    "Now, what are the hexadecimal of these bytes?"
   ]
  },
  {
   "cell_type": "code",
   "execution_count": 65,
   "metadata": {},
   "outputs": [
    {
     "name": "stdout",
     "output_type": "stream",
     "text": [
      "['0xf0', '0x9f', '0x99', '0x8b']\n"
     ]
    }
   ],
   "source": [
    "print(list(map(hex, [0b11110000, 0b10011111, 0b10011001, 0b10001011])))"
   ]
  },
  {
   "cell_type": "markdown",
   "metadata": {},
   "source": [
    "Notice that these matches with the first 4 thingies we wanted to understand. Now you know what they mean.\n",
    "\n"
   ]
  },
  {
   "cell_type": "markdown",
   "metadata": {},
   "source": []
  }
 ],
 "metadata": {
  "kernelspec": {
   "display_name": "3.10.13",
   "language": "python",
   "name": "python3"
  },
  "language_info": {
   "codemirror_mode": {
    "name": "ipython",
    "version": 3
   },
   "file_extension": ".py",
   "mimetype": "text/x-python",
   "name": "python",
   "nbconvert_exporter": "python",
   "pygments_lexer": "ipython3",
   "version": "3.10.13"
  }
 },
 "nbformat": 4,
 "nbformat_minor": 2
}
